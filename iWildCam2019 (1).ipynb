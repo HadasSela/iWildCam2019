{
  "nbformat": 4,
  "nbformat_minor": 0,
  "metadata": {
    "colab": {
      "provenance": [],
      "toc_visible": true,
      "machine_shape": "hm"
    },
    "kernelspec": {
      "name": "python3",
      "display_name": "Python 3"
    },
    "language_info": {
      "name": "python"
    },
    "gpuClass": "premium",
    "accelerator": "GPU"
  },
  "cells": [
    {
      "cell_type": "markdown",
      "source": [
        "# iWildCam2019"
      ],
      "metadata": {
        "id": "nQujD-ki_yfE"
      }
    },
    {
      "cell_type": "markdown",
      "source": [
        ">[iWildCam2019](#scrollTo=nQujD-ki_yfE)\n",
        "\n",
        ">>[Setup](#scrollTo=v7ubple5ALS7)\n",
        "\n",
        ">>[Installs](#scrollTo=6d83TEioz3Hb)\n",
        "\n",
        ">>>[Imports](#scrollTo=8lFIH8fGATeI)\n",
        "\n",
        ">>>[Google Drive](#scrollTo=h1ujOfPrAWUo)\n",
        "\n",
        ">>>>[Unzip data](#scrollTo=L7I8ACtyGjkm)\n",
        "\n",
        ">>>>[Unzip test images](#scrollTo=IS3A4kcEGuFM)\n",
        "\n",
        ">>>[CUDA](#scrollTo=cWUpEtLBAau2)\n",
        "\n",
        ">>[Code](#scrollTo=iXMe-rPVXMcl)\n",
        "\n",
        ">>>>[Constants](#scrollTo=32NsTMTGZ291)\n",
        "\n",
        ">>>[Utils](#scrollTo=zazk-8clXRNH)\n",
        "\n",
        ">>>[Model](#scrollTo=qiYM4vItXWgx)\n",
        "\n",
        ">>>[Training Functions](#scrollTo=2LNbi9XkXtvj)\n",
        "\n",
        ">>>>[Helper Functions](#scrollTo=ozIOIHDQahrB)\n",
        "\n",
        ">>>>[do_train()](#scrollTo=1BndLmnkFJOw)\n",
        "\n",
        ">>>[Evaluation Functions](#scrollTo=bUhpo37_XxC6)\n",
        "\n",
        ">>>>[Helper Functions](#scrollTo=WUZmX9oAK7H4)\n",
        "\n",
        ">>>>[do_predict()](#scrollTo=6YpegjB0K3_-)\n",
        "\n",
        ">>[Training](#scrollTo=_Axh_B1zXaZM)\n",
        "\n",
        ">>[Prediction](#scrollTo=6uFYQPC1Xdf2)\n",
        "\n",
        ">>[Submit](#scrollTo=jx6n4g6L7bRU)\n",
        "\n"
      ],
      "metadata": {
        "colab_type": "toc",
        "id": "4wS4RX9J_qjG"
      }
    },
    {
      "cell_type": "markdown",
      "source": [
        "## Setup"
      ],
      "metadata": {
        "id": "v7ubple5ALS7"
      }
    },
    {
      "cell_type": "markdown",
      "source": [
        "## Installs"
      ],
      "metadata": {
        "id": "6d83TEioz3Hb"
      }
    },
    {
      "cell_type": "code",
      "source": [
        "! pip install tensorflow"
      ],
      "metadata": {
        "colab": {
          "base_uri": "https://localhost:8080/"
        },
        "id": "pXS3UWkj0tWA",
        "outputId": "6d204217-1754-4e8d-e000-823a6f7c9ae8"
      },
      "execution_count": null,
      "outputs": [
        {
          "output_type": "stream",
          "name": "stdout",
          "text": [
            "Looking in indexes: https://pypi.org/simple, https://us-python.pkg.dev/colab-wheels/public/simple/\n",
            "Requirement already satisfied: tensorflow in /usr/local/lib/python3.8/dist-packages (2.11.0)\n",
            "Requirement already satisfied: grpcio<2.0,>=1.24.3 in /usr/local/lib/python3.8/dist-packages (from tensorflow) (1.51.1)\n",
            "Requirement already satisfied: opt-einsum>=2.3.2 in /usr/local/lib/python3.8/dist-packages (from tensorflow) (3.3.0)\n",
            "Requirement already satisfied: astunparse>=1.6.0 in /usr/local/lib/python3.8/dist-packages (from tensorflow) (1.6.3)\n",
            "Requirement already satisfied: h5py>=2.9.0 in /usr/local/lib/python3.8/dist-packages (from tensorflow) (3.1.0)\n",
            "Requirement already satisfied: numpy>=1.20 in /usr/local/lib/python3.8/dist-packages (from tensorflow) (1.22.4)\n",
            "Requirement already satisfied: typing-extensions>=3.6.6 in /usr/local/lib/python3.8/dist-packages (from tensorflow) (4.5.0)\n",
            "Requirement already satisfied: setuptools in /usr/local/lib/python3.8/dist-packages (from tensorflow) (57.4.0)\n",
            "Requirement already satisfied: wrapt>=1.11.0 in /usr/local/lib/python3.8/dist-packages (from tensorflow) (1.14.1)\n",
            "Requirement already satisfied: tensorflow-estimator<2.12,>=2.11.0 in /usr/local/lib/python3.8/dist-packages (from tensorflow) (2.11.0)\n",
            "Requirement already satisfied: tensorflow-io-gcs-filesystem>=0.23.1 in /usr/local/lib/python3.8/dist-packages (from tensorflow) (0.30.0)\n",
            "Requirement already satisfied: absl-py>=1.0.0 in /usr/local/lib/python3.8/dist-packages (from tensorflow) (1.4.0)\n",
            "Requirement already satisfied: six>=1.12.0 in /usr/local/lib/python3.8/dist-packages (from tensorflow) (1.15.0)\n",
            "Requirement already satisfied: keras<2.12,>=2.11.0 in /usr/local/lib/python3.8/dist-packages (from tensorflow) (2.11.0)\n",
            "Requirement already satisfied: gast<=0.4.0,>=0.2.1 in /usr/local/lib/python3.8/dist-packages (from tensorflow) (0.4.0)\n",
            "Requirement already satisfied: packaging in /usr/local/lib/python3.8/dist-packages (from tensorflow) (23.0)\n",
            "Requirement already satisfied: google-pasta>=0.1.1 in /usr/local/lib/python3.8/dist-packages (from tensorflow) (0.2.0)\n",
            "Requirement already satisfied: termcolor>=1.1.0 in /usr/local/lib/python3.8/dist-packages (from tensorflow) (2.2.0)\n",
            "Requirement already satisfied: tensorboard<2.12,>=2.11 in /usr/local/lib/python3.8/dist-packages (from tensorflow) (2.11.2)\n",
            "Requirement already satisfied: libclang>=13.0.0 in /usr/local/lib/python3.8/dist-packages (from tensorflow) (15.0.6.1)\n",
            "Requirement already satisfied: flatbuffers>=2.0 in /usr/local/lib/python3.8/dist-packages (from tensorflow) (23.1.21)\n",
            "Requirement already satisfied: protobuf<3.20,>=3.9.2 in /usr/local/lib/python3.8/dist-packages (from tensorflow) (3.19.6)\n",
            "Requirement already satisfied: wheel<1.0,>=0.23.0 in /usr/local/lib/python3.8/dist-packages (from astunparse>=1.6.0->tensorflow) (0.38.4)\n",
            "Requirement already satisfied: markdown>=2.6.8 in /usr/local/lib/python3.8/dist-packages (from tensorboard<2.12,>=2.11->tensorflow) (3.4.1)\n",
            "Requirement already satisfied: tensorboard-data-server<0.7.0,>=0.6.0 in /usr/local/lib/python3.8/dist-packages (from tensorboard<2.12,>=2.11->tensorflow) (0.6.1)\n",
            "Requirement already satisfied: werkzeug>=1.0.1 in /usr/local/lib/python3.8/dist-packages (from tensorboard<2.12,>=2.11->tensorflow) (1.0.1)\n",
            "Requirement already satisfied: tensorboard-plugin-wit>=1.6.0 in /usr/local/lib/python3.8/dist-packages (from tensorboard<2.12,>=2.11->tensorflow) (1.8.1)\n",
            "Requirement already satisfied: google-auth<3,>=1.6.3 in /usr/local/lib/python3.8/dist-packages (from tensorboard<2.12,>=2.11->tensorflow) (2.16.1)\n",
            "Requirement already satisfied: requests<3,>=2.21.0 in /usr/local/lib/python3.8/dist-packages (from tensorboard<2.12,>=2.11->tensorflow) (2.25.1)\n",
            "Requirement already satisfied: google-auth-oauthlib<0.5,>=0.4.1 in /usr/local/lib/python3.8/dist-packages (from tensorboard<2.12,>=2.11->tensorflow) (0.4.6)\n",
            "Requirement already satisfied: cachetools<6.0,>=2.0.0 in /usr/local/lib/python3.8/dist-packages (from google-auth<3,>=1.6.3->tensorboard<2.12,>=2.11->tensorflow) (5.3.0)\n",
            "Requirement already satisfied: rsa<5,>=3.1.4 in /usr/local/lib/python3.8/dist-packages (from google-auth<3,>=1.6.3->tensorboard<2.12,>=2.11->tensorflow) (4.9)\n",
            "Requirement already satisfied: pyasn1-modules>=0.2.1 in /usr/local/lib/python3.8/dist-packages (from google-auth<3,>=1.6.3->tensorboard<2.12,>=2.11->tensorflow) (0.2.8)\n",
            "Requirement already satisfied: requests-oauthlib>=0.7.0 in /usr/local/lib/python3.8/dist-packages (from google-auth-oauthlib<0.5,>=0.4.1->tensorboard<2.12,>=2.11->tensorflow) (1.3.1)\n",
            "Requirement already satisfied: importlib-metadata>=4.4 in /usr/local/lib/python3.8/dist-packages (from markdown>=2.6.8->tensorboard<2.12,>=2.11->tensorflow) (6.0.0)\n",
            "Requirement already satisfied: idna<3,>=2.5 in /usr/local/lib/python3.8/dist-packages (from requests<3,>=2.21.0->tensorboard<2.12,>=2.11->tensorflow) (2.10)\n",
            "Requirement already satisfied: urllib3<1.27,>=1.21.1 in /usr/local/lib/python3.8/dist-packages (from requests<3,>=2.21.0->tensorboard<2.12,>=2.11->tensorflow) (1.24.3)\n",
            "Requirement already satisfied: chardet<5,>=3.0.2 in /usr/local/lib/python3.8/dist-packages (from requests<3,>=2.21.0->tensorboard<2.12,>=2.11->tensorflow) (4.0.0)\n",
            "Requirement already satisfied: certifi>=2017.4.17 in /usr/local/lib/python3.8/dist-packages (from requests<3,>=2.21.0->tensorboard<2.12,>=2.11->tensorflow) (2022.12.7)\n",
            "Requirement already satisfied: zipp>=0.5 in /usr/local/lib/python3.8/dist-packages (from importlib-metadata>=4.4->markdown>=2.6.8->tensorboard<2.12,>=2.11->tensorflow) (3.14.0)\n",
            "Requirement already satisfied: pyasn1<0.5.0,>=0.4.6 in /usr/local/lib/python3.8/dist-packages (from pyasn1-modules>=0.2.1->google-auth<3,>=1.6.3->tensorboard<2.12,>=2.11->tensorflow) (0.4.8)\n",
            "Requirement already satisfied: oauthlib>=3.0.0 in /usr/local/lib/python3.8/dist-packages (from requests-oauthlib>=0.7.0->google-auth-oauthlib<0.5,>=0.4.1->tensorboard<2.12,>=2.11->tensorflow) (3.2.2)\n"
          ]
        }
      ]
    },
    {
      "cell_type": "code",
      "source": [
        "#! pip install efficientnet"
      ],
      "metadata": {
        "id": "yrynyqbmz6b8"
      },
      "execution_count": null,
      "outputs": []
    },
    {
      "cell_type": "code",
      "source": [
        "!pip install kaggle"
      ],
      "metadata": {
        "colab": {
          "base_uri": "https://localhost:8080/"
        },
        "id": "jxNkKiVH6ZRW",
        "outputId": "22873dea-bb48-47f4-d822-262b8833a367"
      },
      "execution_count": null,
      "outputs": [
        {
          "output_type": "stream",
          "name": "stdout",
          "text": [
            "Looking in indexes: https://pypi.org/simple, https://us-python.pkg.dev/colab-wheels/public/simple/\n",
            "Requirement already satisfied: kaggle in /usr/local/lib/python3.8/dist-packages (1.5.12)\n",
            "Requirement already satisfied: urllib3 in /usr/local/lib/python3.8/dist-packages (from kaggle) (1.24.3)\n",
            "Requirement already satisfied: python-dateutil in /usr/local/lib/python3.8/dist-packages (from kaggle) (2.8.2)\n",
            "Requirement already satisfied: tqdm in /usr/local/lib/python3.8/dist-packages (from kaggle) (4.64.1)\n",
            "Requirement already satisfied: requests in /usr/local/lib/python3.8/dist-packages (from kaggle) (2.25.1)\n",
            "Requirement already satisfied: certifi in /usr/local/lib/python3.8/dist-packages (from kaggle) (2022.12.7)\n",
            "Requirement already satisfied: six>=1.10 in /usr/local/lib/python3.8/dist-packages (from kaggle) (1.15.0)\n",
            "Requirement already satisfied: python-slugify in /usr/local/lib/python3.8/dist-packages (from kaggle) (8.0.0)\n",
            "Requirement already satisfied: text-unidecode>=1.3 in /usr/local/lib/python3.8/dist-packages (from python-slugify->kaggle) (1.3)\n",
            "Requirement already satisfied: idna<3,>=2.5 in /usr/local/lib/python3.8/dist-packages (from requests->kaggle) (2.10)\n",
            "Requirement already satisfied: chardet<5,>=3.0.2 in /usr/local/lib/python3.8/dist-packages (from requests->kaggle) (4.0.0)\n"
          ]
        }
      ]
    },
    {
      "cell_type": "code",
      "source": [
        "!chmod 600 /root/.kaggle/kaggle.json"
      ],
      "metadata": {
        "colab": {
          "base_uri": "https://localhost:8080/"
        },
        "id": "Fk1JUE1e6n8w",
        "outputId": "9549c36f-7b66-44db-86f9-2f35a528bbfa"
      },
      "execution_count": null,
      "outputs": [
        {
          "output_type": "stream",
          "name": "stdout",
          "text": [
            "chmod: cannot access '/root/.kaggle/kaggle.json': No such file or directory\n"
          ]
        }
      ]
    },
    {
      "cell_type": "markdown",
      "source": [
        "### Imports"
      ],
      "metadata": {
        "id": "8lFIH8fGATeI"
      }
    },
    {
      "cell_type": "code",
      "execution_count": null,
      "metadata": {
        "id": "IzuU9RhJ_CM2"
      },
      "outputs": [],
      "source": [
        "\n",
        "import os\n",
        "\n",
        "from collections import OrderedDict\n",
        "import math\n",
        "from time import time\n",
        "import json\n",
        "\n",
        "import numpy as np\n",
        "import pandas as pd\n",
        "import matplotlib.pyplot as plt\n",
        "\n",
        "import tensorflow as tf\n",
        "tf.debugging.set_log_device_placement(False)\n",
        "from tensorflow import keras\n",
        "from tensorflow.keras.preprocessing.image import ImageDataGenerator\n",
        "import tensorflow_datasets as tfds\n",
        "from tensorflow.python.data import AUTOTUNE\n",
        "# from efficientnet.tfkeras import EfficientNetB0\n",
        "from tensorflow.keras.applications.efficientnet import EfficientNetB0\n",
        "from tensorflow.keras.applications.efficientnet import EfficientNetB7\n",
        "from tensorflow.keras.applications.efficientnet_v2 import EfficientNetV2B0\n",
        "from tensorflow.keras.applications.densenet import DenseNet121\n",
        "\n",
        "import cv2\n",
        "from google.colab import drive\n"
      ]
    },
    {
      "cell_type": "code",
      "source": [
        "tf.version.VERSION"
      ],
      "metadata": {
        "colab": {
          "base_uri": "https://localhost:8080/",
          "height": 35
        },
        "id": "fLRv7Nu404NP",
        "outputId": "ede71e2a-8313-4dbc-f0d3-c08f7534d20c"
      },
      "execution_count": null,
      "outputs": [
        {
          "output_type": "execute_result",
          "data": {
            "text/plain": [
              "'2.11.0'"
            ],
            "application/vnd.google.colaboratory.intrinsic+json": {
              "type": "string"
            }
          },
          "metadata": {},
          "execution_count": 10
        }
      ]
    },
    {
      "cell_type": "markdown",
      "source": [
        "### Google Drive"
      ],
      "metadata": {
        "id": "h1ujOfPrAWUo"
      }
    },
    {
      "cell_type": "code",
      "source": [
        "PROJECT_PATH= '/content/drive/MyDrive/statistical_inference/iWildCam_2019'"
      ],
      "metadata": {
        "id": "0YTgnIPxAaTC"
      },
      "execution_count": null,
      "outputs": []
    },
    {
      "cell_type": "code",
      "source": [
        "def list_files(startpath):\n",
        "    for root, dirs, files in os.walk(startpath):\n",
        "        level = root.replace(startpath, '').count(os.sep)\n",
        "        indent = ' ' * 4 * (level)\n",
        "        print('{}{}/'.format(indent, os.path.basename(root)))\n",
        "        subindent = ' ' * 4 * (level + 1)\n",
        "        for f in files:\n",
        "            print('{}{}'.format(subindent, f))"
      ],
      "metadata": {
        "id": "gJVZs4oRB8rQ"
      },
      "execution_count": null,
      "outputs": []
    },
    {
      "cell_type": "code",
      "source": [
        "drive.mount('/content/drive')\n",
        "# file_path = os.path.join(PROJECT_PATH,'data/weatherAUS.csv' )\n",
        "# data=pd.read_csv(file_path)')\n",
        "\n",
        "list_files(PROJECT_PATH)"
      ],
      "metadata": {
        "colab": {
          "base_uri": "https://localhost:8080/"
        },
        "id": "BQNyvjdaBI5u",
        "outputId": "ad51b24a-77cc-4fd2-c244-a2493b8b35ca"
      },
      "execution_count": null,
      "outputs": [
        {
          "output_type": "stream",
          "name": "stdout",
          "text": [
            "Mounted at /content/drive\n",
            "iWildCam_2019/\n",
            "    DenseNet-BC-121-32-no-top.h5\n",
            "    history-EfficientNetB0.json\n",
            "    result-EfficientNetB0.csv\n",
            "    pred-EfficientNetB0.csv\n",
            "    history-EfficientNetV2B0.json\n",
            "    result-EfficientNetV2B0.csv\n",
            "    pred-EfficientNetV2B0.csv\n",
            "    history-DenseNet121.json\n",
            "    Downloads/\n",
            "        Data.zip\n",
            "        train_128_128_images.zip\n",
            "        test_128_128_images.zip\n",
            "    Models/\n",
            "        EfficientNetB0.index\n",
            "        EfficientNetB0.data-00000-of-00001\n",
            "        EfficientNetV2B0.data-00000-of-00001\n",
            "        EfficientNetV2B0.index\n",
            "        DenseNet121.index\n",
            "        checkpoint\n",
            "        DenseNet121.data-00000-of-00001\n",
            "    checkpoints/\n",
            "        EfficientNetB0/\n",
            "            cp-0023.ckpt.data-00000-of-00001\n",
            "            cp-0023.ckpt.index\n",
            "            cp-0026.ckpt.data-00000-of-00001\n",
            "            cp-0026.ckpt.index\n",
            "            cp-0029.ckpt.data-00000-of-00001\n",
            "            cp-0029.ckpt.index\n",
            "            cp-0032.ckpt.data-00000-of-00001\n",
            "            cp-0032.ckpt.index\n",
            "            cp-0036.ckpt.data-00000-of-00001\n",
            "            cp-0036.ckpt.index\n",
            "            cp-0039.ckpt.data-00000-of-00001\n",
            "            cp-0039.ckpt.index\n",
            "            cp-0042.ckpt.data-00000-of-00001\n",
            "            cp-0042.ckpt.index\n",
            "            cp-0045.ckpt.data-00000-of-00001\n",
            "            cp-0045.ckpt.index\n",
            "            cp-0048.ckpt.data-00000-of-00001\n",
            "            cp-0048.ckpt.index\n",
            "            cp-0052.ckpt.data-00000-of-00001\n",
            "            cp-0052.ckpt.index\n",
            "            cp-0055.ckpt.data-00000-of-00001\n",
            "            cp-0055.ckpt.index\n",
            "            cp-0058.ckpt.data-00000-of-00001\n",
            "            cp-0058.ckpt.index\n",
            "            cp-0061.ckpt.data-00000-of-00001\n",
            "            cp-0061.ckpt.index\n",
            "            cp-0064.ckpt.data-00000-of-00001\n",
            "            cp-0064.ckpt.index\n",
            "            cp-0068.ckpt.data-00000-of-00001\n",
            "            cp-0068.ckpt.index\n",
            "            cp-0071.ckpt.data-00000-of-00001\n",
            "            cp-0071.ckpt.index\n",
            "            cp-0074.ckpt.data-00000-of-00001\n",
            "            cp-0074.ckpt.index\n",
            "            cp-0077.ckpt.data-00000-of-00001\n",
            "            cp-0077.ckpt.index\n",
            "            cp-0080.ckpt.data-00000-of-00001\n",
            "            cp-0080.ckpt.index\n",
            "            cp-0084.ckpt.data-00000-of-00001\n",
            "            cp-0084.ckpt.index\n",
            "            cp-0087.ckpt.data-00000-of-00001\n",
            "            cp-0087.ckpt.index\n",
            "            cp-0016.ckpt.index\n",
            "            cp-0016.ckpt.data-00000-of-00001\n",
            "            cp-0017.ckpt.data-00000-of-00001\n",
            "            cp-0017.ckpt.index\n",
            "            cp-0018.ckpt.data-00000-of-00001\n",
            "            cp-0018.ckpt.index\n",
            "            cp-0019.ckpt.data-00000-of-00001\n",
            "            cp-0019.ckpt.index\n",
            "            cp-0020.ckpt.index\n",
            "            cp-0020.ckpt.data-00000-of-00001\n",
            "            cp-0014.ckpt.index\n",
            "            cp-0014.ckpt.data-00000-of-00001\n",
            "            cp-0015.ckpt.index\n",
            "            cp-0015.ckpt.data-00000-of-00001\n",
            "            cp-0001.ckpt.index\n",
            "            cp-0001.ckpt.data-00000-of-00001\n",
            "            cp-0002.ckpt.index\n",
            "            cp-0002.ckpt.data-00000-of-00001\n",
            "            cp-0003.ckpt.index\n",
            "            cp-0003.ckpt.data-00000-of-00001\n",
            "            cp-0004.ckpt.index\n",
            "            cp-0004.ckpt.data-00000-of-00001\n",
            "            cp-0005.ckpt.index\n",
            "            cp-0005.ckpt.data-00000-of-00001\n",
            "            cp-0006.ckpt.index\n",
            "            cp-0006.ckpt.data-00000-of-00001\n",
            "            cp-0007.ckpt.index\n",
            "            cp-0007.ckpt.data-00000-of-00001\n",
            "            cp-0008.ckpt.index\n",
            "            cp-0008.ckpt.data-00000-of-00001\n",
            "            cp-0009.ckpt.index\n",
            "            cp-0009.ckpt.data-00000-of-00001\n",
            "            cp-0010.ckpt.index\n",
            "            cp-0010.ckpt.data-00000-of-00001\n",
            "            cp-0011.ckpt.index\n",
            "            cp-0011.ckpt.data-00000-of-00001\n",
            "            cp-0012.ckpt.index\n",
            "            cp-0012.ckpt.data-00000-of-00001\n",
            "            cp-0013.ckpt.index\n",
            "            checkpoint\n",
            "            cp-0013.ckpt.data-00000-of-00001\n",
            "        DenseNet121/\n",
            "            cp-0012.ckpt.data-00000-of-00001\n",
            "            cp-0012.ckpt.index\n",
            "            cp-0013.ckpt.data-00000-of-00001\n",
            "            cp-0013.ckpt.index\n",
            "            cp-0001.ckpt.index\n",
            "            cp-0001.ckpt.data-00000-of-00001\n",
            "            cp-0002.ckpt.index\n",
            "            cp-0002.ckpt.data-00000-of-00001\n",
            "            cp-0003.ckpt.index\n",
            "            cp-0003.ckpt.data-00000-of-00001\n",
            "            cp-0004.ckpt.index\n",
            "            cp-0004.ckpt.data-00000-of-00001\n",
            "            cp-0005.ckpt.index\n",
            "            cp-0005.ckpt.data-00000-of-00001\n",
            "            cp-0006.ckpt.index\n",
            "            cp-0006.ckpt.data-00000-of-00001\n",
            "            cp-0007.ckpt.index\n",
            "            cp-0007.ckpt.data-00000-of-00001\n",
            "            cp-0008.ckpt.index\n",
            "            cp-0008.ckpt.data-00000-of-00001\n",
            "            cp-0009.ckpt.index\n",
            "            cp-0009.ckpt.data-00000-of-00001\n",
            "            cp-0010.ckpt.index\n",
            "            cp-0010.ckpt.data-00000-of-00001\n",
            "            cp-0011.ckpt.index\n",
            "            checkpoint\n",
            "            cp-0011.ckpt.data-00000-of-00001\n",
            "    EfficientNetB0_results_128/\n",
            "        result-EfficientNetB0.csv\n",
            "        pred-EfficientNetB0.csv\n"
          ]
        }
      ]
    },
    {
      "cell_type": "markdown",
      "source": [
        "#### Unzip data"
      ],
      "metadata": {
        "id": "L7I8ACtyGjkm"
      }
    },
    {
      "cell_type": "code",
      "source": [
        "data_zip_path=os.path.join(PROJECT_PATH,'Downloads','Data.zip' )\n",
        "!unzip -n {data_zip_path}"
      ],
      "metadata": {
        "colab": {
          "base_uri": "https://localhost:8080/"
        },
        "id": "PMDHdclPGZ1g",
        "outputId": "cba30818-b13f-452e-832d-d1f2a07d18f7"
      },
      "execution_count": null,
      "outputs": [
        {
          "output_type": "stream",
          "name": "stdout",
          "text": [
            "Archive:  /content/drive/MyDrive/statistical_inference/iWildCam_2019/Downloads/Data.zip\n",
            "  inflating: train+.csv              \n",
            "  inflating: caltech_images_20210113.json  \n",
            "  inflating: inat.csv                \n",
            "  inflating: test.csv                \n",
            "  inflating: test.ftr                \n",
            "  inflating: train.csv               \n",
            "  inflating: train.ftr               \n"
          ]
        }
      ]
    },
    {
      "cell_type": "markdown",
      "source": [
        "Unzip training images"
      ],
      "metadata": {
        "id": "qzgU8RgSGosP"
      }
    },
    {
      "cell_type": "code",
      "source": [
        "train_images_path=os.path.join(PROJECT_PATH,'Downloads','train_128_128_images.zip' )\n",
        "!unzip -q -n {train_images_path}"
      ],
      "metadata": {
        "id": "Ldq6S4JmFeyG"
      },
      "execution_count": null,
      "outputs": []
    },
    {
      "cell_type": "markdown",
      "source": [
        "#### Unzip test images"
      ],
      "metadata": {
        "id": "IS3A4kcEGuFM"
      }
    },
    {
      "cell_type": "code",
      "source": [
        "test_images_path=os.path.join(PROJECT_PATH,'Downloads','test_128_128_images.zip' )\n",
        "!unzip -q -n {test_images_path}"
      ],
      "metadata": {
        "id": "Y0M82cy1G33Q"
      },
      "execution_count": null,
      "outputs": []
    },
    {
      "cell_type": "markdown",
      "source": [
        "### CUDA"
      ],
      "metadata": {
        "id": "cWUpEtLBAau2"
      }
    },
    {
      "cell_type": "code",
      "source": [
        "gpus=tf.config.list_physical_devices('GPU')\n",
        "print(\"Num GPUs Available: \", len(gpus))\n",
        "if len(gpus):\n",
        "  print(gpus)\n"
      ],
      "metadata": {
        "colab": {
          "base_uri": "https://localhost:8080/"
        },
        "id": "SA7e6KSIAdd2",
        "outputId": "9809093b-877c-44d1-a9a4-6357e30a57ab"
      },
      "execution_count": null,
      "outputs": [
        {
          "output_type": "stream",
          "name": "stdout",
          "text": [
            "Num GPUs Available:  1\n",
            "[PhysicalDevice(name='/physical_device:GPU:0', device_type='GPU')]\n"
          ]
        }
      ]
    },
    {
      "cell_type": "code",
      "source": [
        "tf.ones([])"
      ],
      "metadata": {
        "colab": {
          "base_uri": "https://localhost:8080/"
        },
        "id": "vL7L5SbMsXtp",
        "outputId": "feb670ec-6cfd-439f-d0d8-8062674dec51"
      },
      "execution_count": null,
      "outputs": [
        {
          "output_type": "execute_result",
          "data": {
            "text/plain": [
              "<tf.Tensor: shape=(), dtype=float32, numpy=1.0>"
            ]
          },
          "metadata": {},
          "execution_count": 18
        }
      ]
    },
    {
      "cell_type": "code",
      "source": [
        "with tf.device(\"CPU\"):\n",
        " print(tf.ones([]))"
      ],
      "metadata": {
        "colab": {
          "base_uri": "https://localhost:8080/"
        },
        "id": "lyOIoi50s1Ou",
        "outputId": "2631b13b-1d71-4ef5-ae3a-6aabbff7cd81"
      },
      "execution_count": null,
      "outputs": [
        {
          "output_type": "stream",
          "name": "stdout",
          "text": [
            "tf.Tensor(1.0, shape=(), dtype=float32)\n"
          ]
        }
      ]
    },
    {
      "cell_type": "markdown",
      "source": [
        "## Code"
      ],
      "metadata": {
        "id": "iXMe-rPVXMcl"
      }
    },
    {
      "cell_type": "markdown",
      "source": [
        "#### Constants"
      ],
      "metadata": {
        "id": "32NsTMTGZ291"
      }
    },
    {
      "cell_type": "code",
      "source": [
        "BATCH_SIZE = 64\n",
        "# EPOCHS = 20\n",
        "EPOCHS = 20\n",
        "# STEPS_PER_EPOCH = 100\n",
        "VALIDATION_STEPS = 50\n",
        "MODEL='DenseNet121'\n",
        "TARGET_SIZE=(32,32)\n",
        "# TARGET_SIZE=(128,128)\n",
        "# TRAIN_METRIC='sparse_categorical_accuracy'\n",
        "TRAIN_LOSS='sparse_categorical_crossentropy'\n",
        "TRAIN_METRIC='accuracy'\n",
        "# TRAIN_LOSS='categorical_crossentropy'\n",
        "LEARNING_RATE=0.00005"
      ],
      "metadata": {
        "id": "4Sc9FGL2Z5B0"
      },
      "execution_count": null,
      "outputs": []
    },
    {
      "cell_type": "code",
      "source": [
        "EPOCHS"
      ],
      "metadata": {
        "colab": {
          "base_uri": "https://localhost:8080/"
        },
        "id": "c8wcFavAVQJE",
        "outputId": "d853e968-e7bb-4180-b62a-b94a943fac60"
      },
      "execution_count": null,
      "outputs": [
        {
          "output_type": "execute_result",
          "data": {
            "text/plain": [
              "20"
            ]
          },
          "metadata": {},
          "execution_count": 21
        }
      ]
    },
    {
      "cell_type": "markdown",
      "source": [
        "### Utils"
      ],
      "metadata": {
        "id": "zazk-8clXRNH"
      }
    },
    {
      "cell_type": "code",
      "source": [
        "def get_data_file_path(*components):\n",
        "    return os.path.join('/content', *components)\n",
        "\n",
        "def load_df(name) -> pd.DataFrame:\n",
        "    path = get_data_file_path(name + '.csv')\n",
        "    return pd.read_csv(path, dtype={'id': str, 'seq_id': str})\n",
        "  \n",
        "def get_drive_file_path(*components):\n",
        "    return os.path.join(PROJECT_PATH, *components)\n",
        "\n",
        "def save_df(df,name):\n",
        "  path=get_drive_file_path(name+'.csv')\n",
        "  df.to_csv(path, index=False)\n",
        "  print(f'Saved to {path}')\n",
        "\n",
        "def save_array(arr,name):\n",
        "  path=get_drive_file_path(name+'.csv')\n",
        "  np.savetxt(path,arr,delimiter=',')\n",
        "\n",
        "def load_df_from_drive(name):  \n",
        "  path=get_drive_file_path(name+'.csv')\n",
        "  return pd.read_csv(path)\n",
        "\n",
        "def load_array(name):\n",
        "      path=get_drive_file_path(name+'.csv')\n",
        "      return np.loadtxt(path, delimiter=',')\n",
        "\n",
        "def make_dir(path):\n",
        "  if not  os.path.exists(path):\n",
        "     os.makedirs(path)\n",
        "\n",
        "def save_history(history,model_name):\n",
        "  path=get_drive_file_path(f'history-{model_name}')\n",
        "  save_json(history.history, path)\n",
        "  return history.history\n",
        "\n",
        "def load_history(model_name):\n",
        "  path=get_drive_file_path(f'history-{model_name}')\n",
        "  return load_json(path)\n",
        "\n",
        "def load_json(path):\n",
        "  with open(path+'.json', 'r') as openfile: \n",
        "    return json.load(openfile)\n",
        "\n",
        "def save_json(dictionary, path):\n",
        "  with open(path+'.json', \"w\") as outfile:\n",
        "      json.dump(dictionary, outfile)"
      ],
      "metadata": {
        "id": "wHcuVFq_B-xj"
      },
      "execution_count": null,
      "outputs": []
    },
    {
      "cell_type": "code",
      "source": [
        "# df=pd.DataFrame({'id':[1,2,3],'val':['a','b','c']})\n",
        "# save_df(df,'dummy')\n",
        "# df1=load_df_from_drive('dummy')\n",
        "# df1"
      ],
      "metadata": {
        "id": "jwMpVZC3aozs"
      },
      "execution_count": null,
      "outputs": []
    },
    {
      "cell_type": "code",
      "source": [
        "# arr=np.array([[1,2],[3,4],[5,6]])\n",
        "# save_array(arr,'dummy1')\n",
        "# arr1=load_array('dummy1')\n",
        "# arr1"
      ],
      "metadata": {
        "id": "mYp3-_gKbacO"
      },
      "execution_count": null,
      "outputs": []
    },
    {
      "cell_type": "code",
      "source": [
        "# load_df('test').info()"
      ],
      "metadata": {
        "id": "QcN5cVo3DlS8"
      },
      "execution_count": null,
      "outputs": []
    },
    {
      "cell_type": "markdown",
      "source": [
        "### Model"
      ],
      "metadata": {
        "id": "qiYM4vItXWgx"
      }
    },
    {
      "cell_type": "code",
      "source": [
        "def save_model(model, model_name):\n",
        "    save_path = get_model_path(model_name)\n",
        "    model.save_weights(save_path)\n",
        "\n",
        "\n",
        "def load_model(model_name, num_classes):\n",
        "    load_path = get_model_path(model_name)\n",
        "    model=create_model(model_name, num_classes)\n",
        "    model.load_weights(load_path)\n",
        "    return model\n",
        "\n",
        "\n",
        "def get_model_path(model_name):\n",
        "    return get_drive_file_path('Models', model_name)\n",
        "\n",
        "MODEL_CLASSES={\n",
        "    'EfficientNetB0':EfficientNetB0,\n",
        "    'EfficientNetB7':EfficientNetB7,\n",
        "    'EfficientNetV2B0':EfficientNetV2B0,\n",
        "    'DenseNet121': {'model_class':DenseNet121, 'weights':'DenseNet-BC-121-32-no-top.h5'}\n",
        "\n",
        "}\n",
        "def create_model(model_name, num_classes):\n",
        "    model_class_ = MODEL_CLASSES[model_name]\n",
        "    if type(model_class_)==dict:\n",
        "      model_class=model_class_['model_class']\n",
        "      weights=get_drive_file_path(model_class_['weights'])\n",
        "    else:\n",
        "        model_class=model_class_\n",
        "        weights=\"imagenet\"\n",
        "    print('weights', weights)\n",
        "    pre_trained_model = model_class(weights=weights, include_top=False, input_shape=(*TARGET_SIZE, 3))\n",
        "    for layer in pre_trained_model.layers:\n",
        "        layer.trainable = False\n",
        "    # pre_trained_model.summary()\n",
        "    # tuning on pre-trained model\n",
        "    effnet_model = tf.keras.models.Sequential()\n",
        "    effnet_model.add(pre_trained_model)\n",
        "    effnet_model.add(tf.keras.layers.GlobalAveragePooling2D())\n",
        "    effnet_model.add(tf.keras.layers.Dense(num_classes, activation=\"softmax\"))\n",
        "    # effnet_model.summary()\n",
        "    opt = tf.keras.optimizers.Adam(learning_rate=LEARNING_RATE)\n",
        "    effnet_model.compile(optimizer=opt,\n",
        "                         loss=TRAIN_LOSS,\n",
        "                         metrics=[TRAIN_METRIC])\n",
        "    return effnet_model"
      ],
      "metadata": {
        "id": "sYRPSn8mFRSc"
      },
      "execution_count": null,
      "outputs": []
    },
    {
      "cell_type": "code",
      "source": [
        "# create_model('EfficientNetB0',23)"
      ],
      "metadata": {
        "id": "mNAZxJVFFdLa"
      },
      "execution_count": null,
      "outputs": []
    },
    {
      "cell_type": "markdown",
      "source": [
        "### Training Functions"
      ],
      "metadata": {
        "id": "2LNbi9XkXtvj"
      }
    },
    {
      "cell_type": "markdown",
      "source": [
        "#### Helper Functions"
      ],
      "metadata": {
        "id": "ozIOIHDQahrB"
      }
    },
    {
      "cell_type": "code",
      "source": [
        "def flow_from_dataframe(datagen, x_train, dir_name, subset=None):\n",
        "    directory = get_data_file_path(dir_name)\n",
        "    params = {\n",
        "        'dataframe': x_train,\n",
        "        'directory': directory,\n",
        "        'x_col': \"file_name\",\n",
        "        'batch_size': BATCH_SIZE,\n",
        "        'seed': 424,\n",
        "        'shuffle': True,\n",
        "        'target_size': TARGET_SIZE,\n",
        "        'validate_filenames': True\n",
        "    }\n",
        "    if subset:\n",
        "        params['subset'] = subset\n",
        "        params['y_col'] = \"category_id\"\n",
        "        params['class_mode'] = \"raw\"\n",
        "    else:\n",
        "        params['y_col'] = None\n",
        "        params['class_mode'] = None\n",
        "\n",
        "    generator = datagen.flow_from_dataframe(**params)\n",
        "    # print(subset, set(generator.labels))\n",
        "    return generator"
      ],
      "metadata": {
        "id": "KgJXnmGpED2q"
      },
      "execution_count": null,
      "outputs": []
    },
    {
      "cell_type": "code",
      "source": [
        "# test_df = load_df('test')\n",
        "# datagen = ImageDataGenerator(rescale=1. / 255)\n",
        "# flow_from_dataframe(datagen, test_df, 'test_128_128_images')"
      ],
      "metadata": {
        "id": "WckJj_wEEL4X"
      },
      "execution_count": null,
      "outputs": []
    },
    {
      "cell_type": "code",
      "source": [
        "def display_training_curves(training, validation, title, subplot):\n",
        "    if subplot % 10 == 1:  # set up the subplots on the first call\n",
        "        plt.subplots(figsize=(10, 10), facecolor='#F0F0F0')\n",
        "        plt.tight_layout()\n",
        "    ax = plt.subplot(subplot)\n",
        "    ax.set_facecolor('#F8F8F8')\n",
        "    ax.plot(training)\n",
        "    ax.plot(validation)\n",
        "    ax.set_title('model ' + title)\n",
        "    ax.set_ylabel(title)\n",
        "    # ax.set_ylim(0.28,1.05)\n",
        "    ax.set_xlabel('epoch')\n",
        "    ax.legend(['train', 'valid.'])"
      ],
      "metadata": {
        "id": "AjYzSXF_J7Ki"
      },
      "execution_count": null,
      "outputs": []
    },
    {
      "cell_type": "markdown",
      "source": [
        "#### do_train()"
      ],
      "metadata": {
        "id": "1BndLmnkFJOw"
      }
    },
    {
      "cell_type": "code",
      "source": [
        "CHECKPOINT_DIR=get_drive_file_path(f'checkpoints/{MODEL}')\n",
        "\n",
        "def do_train(model_name):\n",
        "    print(model_name)\n",
        "    x_train = load_df('train+')\n",
        "    num_classes = x_train['category_id'].nunique()\n",
        "    print('num_classes',num_classes)\n",
        "    validation_split=0.25 \n",
        "    train_datagen = ImageDataGenerator(validation_split=validation_split)\n",
        "    # train_datagen = ImageDataGenerator(rescale=1. / 255, validation_split=validation_split)\n",
        "    train_generator = flow_from_dataframe(train_datagen, x_train, 'train_128_128_images', subset=\"training\")\n",
        "    valid_generator = flow_from_dataframe(train_datagen, x_train, 'train_128_128_images', subset=\"validation\")\n",
        "\n",
        "    model = create_model(model_name, num_classes)\n",
        "    early = tf.keras.callbacks.EarlyStopping(monitor='val_loss', min_delta=0, patience=5, verbose=1, mode='auto',\n",
        "                                             start_from_epoch=5)\n",
        "    checkpoint_path=os.path.join(CHECKPOINT_DIR,'cp-{epoch:04d}.ckpt')\n",
        "    total_steps = x_train.shape[0] // BATCH_SIZE\n",
        "    validation_steps=int(total_steps*validation_split)\n",
        "    steps_per_epoch=total_steps-validation_steps\n",
        "    cp_callback=ModelCheckpoint(filepath=checkpoint_path,\n",
        "                                                 save_weights_only=True,\n",
        "                                                 save_freq=steps_per_epoch,\n",
        "                                                 verbose=1)\n",
        "    history = model.fit(\n",
        "        train_generator,\n",
        "        validation_data=valid_generator,\n",
        "        steps_per_epoch=steps_per_epoch,\n",
        "        epochs=EPOCHS,\n",
        "        batch_size=BATCH_SIZE,\n",
        "        validation_steps=validation_steps,\n",
        "        callbacks=[early,cp_callback]\n",
        "    )\n",
        "    save_model(model, model_name)\n",
        "    return save_history(history,model_name)"
      ],
      "metadata": {
        "id": "ZiBjnrHNCzZB"
      },
      "execution_count": null,
      "outputs": []
    },
    {
      "cell_type": "markdown",
      "source": [
        "### Evaluation Functions"
      ],
      "metadata": {
        "id": "bUhpo37_XxC6"
      }
    },
    {
      "cell_type": "markdown",
      "source": [
        "#### Helper Functions"
      ],
      "metadata": {
        "id": "WUZmX9oAK7H4"
      }
    },
    {
      "cell_type": "code",
      "source": [
        "def decode_img(img):\n",
        "    img = tf.io.decode_jpeg(img, channels=3)\n",
        "    # rescaled_image = tf.cast(img, dtype=tf.float32) / tf.constant(255, dtype=tf.float32)\n",
        "    # return rescaled_image\n",
        "    img=tf.image.resize(img,TARGET_SIZE, 'bicubic')\n",
        "    return img\n",
        "\n",
        "\n",
        "def process_path(file_path):\n",
        "    # Load the raw data from the file as a string\n",
        "    img = tf.io.read_file(file_path)\n",
        "    img = decode_img(img)\n",
        "    return img\n",
        "\n",
        "def get_image_data_set(dir_name):\n",
        "    directory = get_data_file_path(dir_name)\n",
        "    list_ds = tf.data.Dataset.list_files(directory + '/*', shuffle=False)\n",
        "    ds = list_ds.map(process_path, num_parallel_calls=AUTOTUNE)\n",
        "    ds = ds.cache()\n",
        "    ds = ds.shuffle(buffer_size=1000)\n",
        "    ds = ds.batch(BATCH_SIZE)\n",
        "    ds = ds.prefetch(buffer_size=AUTOTUNE)\n",
        "    return ds, tfds.as_dataframe(list_ds)"
      ],
      "metadata": {
        "id": "xvMX-ThvK9pS"
      },
      "execution_count": null,
      "outputs": []
    },
    {
      "cell_type": "code",
      "source": [
        "class PredictProgressCallback(tf.keras.callbacks.Callback):\n",
        "    def __init__(self):\n",
        "        super().__init__()\n",
        "        self.count = 0\n",
        "\n",
        "    def on_predict_batch_begin(self, batch, logs=None):\n",
        "        self.count += 1\n",
        "        print(f'batch {self.count} start')\n",
        "        pass\n",
        "\n",
        "    def on_predict_batch_end(self, batch, logs=None):\n",
        "        print(f'batch {self.count} end')\n",
        "\n",
        "    def on_predict_begin(self, logs=None):\n",
        "        print(f'predict begin: {self.params}')\n",
        "\n",
        "    def on_predict_end(self, logs=None):\n",
        "        print('predict end')"
      ],
      "metadata": {
        "id": "2y4RO-YcvYm7"
      },
      "execution_count": null,
      "outputs": []
    },
    {
      "cell_type": "markdown",
      "source": [
        "#### do_predict()"
      ],
      "metadata": {
        "id": "6YpegjB0K3_-"
      }
    },
    {
      "cell_type": "code",
      "source": [
        "def get_id(path_arr):\n",
        "    filename = os.path.basename(str(path_arr))\n",
        "    return os.path.splitext(filename)[0]\n",
        "\n",
        "def do_predict(model_name, is_test=False, num_classes=23):\n",
        "    print(model_name)\n",
        "    x_test=load_df('test')\n",
        "    model = load_model(model_name, num_classes=num_classes)\n",
        "    suffix='_10' if is_test else ''\n",
        "    test_datagen = ImageDataGenerator()\n",
        "    dir_name=f'test_128_128_images{suffix}'\n",
        "    # print('dir_name',dir_name)\n",
        "    test_generator = flow_from_dataframe(test_datagen, x_test, dir_name)\n",
        "\n",
        "    pred = model.predict(test_generator)\n",
        "    result = x_test[['file_name']]\n",
        "    result.rename(columns={'file_name': 'Id'}, inplace=True)\n",
        "    result['Id'] = result['Id'].apply(get_id)\n",
        "    categories_arr = pred.argmax(axis=1)\n",
        "    result['Predicted'] = categories_arr\n",
        "    save_df(result,f'result-{model_name}')\n",
        "    save_array(pred,f'pred-{model_name}')\n",
        "    return result, pred"
      ],
      "metadata": {
        "id": "sN1eVQuAuYVc"
      },
      "execution_count": null,
      "outputs": []
    },
    {
      "cell_type": "markdown",
      "source": [
        "## Training"
      ],
      "metadata": {
        "id": "_Axh_B1zXaZM"
      }
    },
    {
      "cell_type": "code",
      "source": [
        "history_dict=do_train(MODEL)"
      ],
      "metadata": {
        "colab": {
          "base_uri": "https://localhost:8080/",
          "height": 504
        },
        "id": "14A-QDmxWdqW",
        "outputId": "56fae417-361e-4643-b11e-9cd6f1739a16"
      },
      "execution_count": null,
      "outputs": [
        {
          "output_type": "stream",
          "name": "stdout",
          "text": [
            "DenseNet121\n",
            "num_classes 23\n",
            "Found 166170 validated image filenames.\n",
            "Found 55390 validated image filenames.\n",
            "weights /content/drive/MyDrive/statistical_inference/iWildCam_2019/DenseNet-BC-121-32-no-top.h5\n",
            "Epoch 1/20\n",
            "2594/2596 [============================>.] - ETA: 0s - loss: 1.8141 - accuracy: 0.5827\n",
            "Epoch 1: saving model to /content/drive/MyDrive/statistical_inference/iWildCam_2019/checkpoints/DenseNet121/cp-0001.ckpt\n",
            "2596/2596 [==============================] - ETA: 0s - loss: 1.8137 - accuracy: 0.5827"
          ]
        },
        {
          "output_type": "error",
          "ename": "KeyboardInterrupt",
          "evalue": "ignored",
          "traceback": [
            "\u001b[0;31m---------------------------------------------------------------------------\u001b[0m",
            "\u001b[0;31mKeyboardInterrupt\u001b[0m                         Traceback (most recent call last)",
            "\u001b[0;32m<ipython-input-46-01889515eac2>\u001b[0m in \u001b[0;36m<module>\u001b[0;34m\u001b[0m\n\u001b[0;32m----> 1\u001b[0;31m \u001b[0mhistory_dict\u001b[0m\u001b[0;34m=\u001b[0m\u001b[0mdo_train\u001b[0m\u001b[0;34m(\u001b[0m\u001b[0mMODEL\u001b[0m\u001b[0;34m)\u001b[0m\u001b[0;34m\u001b[0m\u001b[0;34m\u001b[0m\u001b[0m\n\u001b[0m",
            "\u001b[0;32m<ipython-input-35-3893c34ae82c>\u001b[0m in \u001b[0;36mdo_train\u001b[0;34m(model_name)\u001b[0m\n\u001b[1;32m     23\u001b[0m                                                  \u001b[0msave_freq\u001b[0m\u001b[0;34m=\u001b[0m\u001b[0msteps_per_epoch\u001b[0m\u001b[0;34m,\u001b[0m\u001b[0;34m\u001b[0m\u001b[0;34m\u001b[0m\u001b[0m\n\u001b[1;32m     24\u001b[0m                                                  verbose=1)\n\u001b[0;32m---> 25\u001b[0;31m     history = model.fit(\n\u001b[0m\u001b[1;32m     26\u001b[0m         \u001b[0mtrain_generator\u001b[0m\u001b[0;34m,\u001b[0m\u001b[0;34m\u001b[0m\u001b[0;34m\u001b[0m\u001b[0m\n\u001b[1;32m     27\u001b[0m         \u001b[0mvalidation_data\u001b[0m\u001b[0;34m=\u001b[0m\u001b[0mvalid_generator\u001b[0m\u001b[0;34m,\u001b[0m\u001b[0;34m\u001b[0m\u001b[0;34m\u001b[0m\u001b[0m\n",
            "\u001b[0;32m/usr/local/lib/python3.8/dist-packages/keras/utils/traceback_utils.py\u001b[0m in \u001b[0;36merror_handler\u001b[0;34m(*args, **kwargs)\u001b[0m\n\u001b[1;32m     63\u001b[0m         \u001b[0mfiltered_tb\u001b[0m \u001b[0;34m=\u001b[0m \u001b[0;32mNone\u001b[0m\u001b[0;34m\u001b[0m\u001b[0;34m\u001b[0m\u001b[0m\n\u001b[1;32m     64\u001b[0m         \u001b[0;32mtry\u001b[0m\u001b[0;34m:\u001b[0m\u001b[0;34m\u001b[0m\u001b[0;34m\u001b[0m\u001b[0m\n\u001b[0;32m---> 65\u001b[0;31m             \u001b[0;32mreturn\u001b[0m \u001b[0mfn\u001b[0m\u001b[0;34m(\u001b[0m\u001b[0;34m*\u001b[0m\u001b[0margs\u001b[0m\u001b[0;34m,\u001b[0m \u001b[0;34m**\u001b[0m\u001b[0mkwargs\u001b[0m\u001b[0;34m)\u001b[0m\u001b[0;34m\u001b[0m\u001b[0;34m\u001b[0m\u001b[0m\n\u001b[0m\u001b[1;32m     66\u001b[0m         \u001b[0;32mexcept\u001b[0m \u001b[0mException\u001b[0m \u001b[0;32mas\u001b[0m \u001b[0me\u001b[0m\u001b[0;34m:\u001b[0m\u001b[0;34m\u001b[0m\u001b[0;34m\u001b[0m\u001b[0m\n\u001b[1;32m     67\u001b[0m             \u001b[0mfiltered_tb\u001b[0m \u001b[0;34m=\u001b[0m \u001b[0m_process_traceback_frames\u001b[0m\u001b[0;34m(\u001b[0m\u001b[0me\u001b[0m\u001b[0;34m.\u001b[0m\u001b[0m__traceback__\u001b[0m\u001b[0;34m)\u001b[0m\u001b[0;34m\u001b[0m\u001b[0;34m\u001b[0m\u001b[0m\n",
            "\u001b[0;32m/usr/local/lib/python3.8/dist-packages/keras/engine/training.py\u001b[0m in \u001b[0;36mfit\u001b[0;34m(self, x, y, batch_size, epochs, verbose, callbacks, validation_split, validation_data, shuffle, class_weight, sample_weight, initial_epoch, steps_per_epoch, validation_steps, validation_batch_size, validation_freq, max_queue_size, workers, use_multiprocessing)\u001b[0m\n\u001b[1;32m   1692\u001b[0m                             \u001b[0msteps_per_execution\u001b[0m\u001b[0;34m=\u001b[0m\u001b[0mself\u001b[0m\u001b[0;34m.\u001b[0m\u001b[0m_steps_per_execution\u001b[0m\u001b[0;34m,\u001b[0m\u001b[0;34m\u001b[0m\u001b[0;34m\u001b[0m\u001b[0m\n\u001b[1;32m   1693\u001b[0m                         )\n\u001b[0;32m-> 1694\u001b[0;31m                     val_logs = self.evaluate(\n\u001b[0m\u001b[1;32m   1695\u001b[0m                         \u001b[0mx\u001b[0m\u001b[0;34m=\u001b[0m\u001b[0mval_x\u001b[0m\u001b[0;34m,\u001b[0m\u001b[0;34m\u001b[0m\u001b[0;34m\u001b[0m\u001b[0m\n\u001b[1;32m   1696\u001b[0m                         \u001b[0my\u001b[0m\u001b[0;34m=\u001b[0m\u001b[0mval_y\u001b[0m\u001b[0;34m,\u001b[0m\u001b[0;34m\u001b[0m\u001b[0;34m\u001b[0m\u001b[0m\n",
            "\u001b[0;32m/usr/local/lib/python3.8/dist-packages/keras/utils/traceback_utils.py\u001b[0m in \u001b[0;36merror_handler\u001b[0;34m(*args, **kwargs)\u001b[0m\n\u001b[1;32m     63\u001b[0m         \u001b[0mfiltered_tb\u001b[0m \u001b[0;34m=\u001b[0m \u001b[0;32mNone\u001b[0m\u001b[0;34m\u001b[0m\u001b[0;34m\u001b[0m\u001b[0m\n\u001b[1;32m     64\u001b[0m         \u001b[0;32mtry\u001b[0m\u001b[0;34m:\u001b[0m\u001b[0;34m\u001b[0m\u001b[0;34m\u001b[0m\u001b[0m\n\u001b[0;32m---> 65\u001b[0;31m             \u001b[0;32mreturn\u001b[0m \u001b[0mfn\u001b[0m\u001b[0;34m(\u001b[0m\u001b[0;34m*\u001b[0m\u001b[0margs\u001b[0m\u001b[0;34m,\u001b[0m \u001b[0;34m**\u001b[0m\u001b[0mkwargs\u001b[0m\u001b[0;34m)\u001b[0m\u001b[0;34m\u001b[0m\u001b[0;34m\u001b[0m\u001b[0m\n\u001b[0m\u001b[1;32m     66\u001b[0m         \u001b[0;32mexcept\u001b[0m \u001b[0mException\u001b[0m \u001b[0;32mas\u001b[0m \u001b[0me\u001b[0m\u001b[0;34m:\u001b[0m\u001b[0;34m\u001b[0m\u001b[0;34m\u001b[0m\u001b[0m\n\u001b[1;32m     67\u001b[0m             \u001b[0mfiltered_tb\u001b[0m \u001b[0;34m=\u001b[0m \u001b[0m_process_traceback_frames\u001b[0m\u001b[0;34m(\u001b[0m\u001b[0me\u001b[0m\u001b[0;34m.\u001b[0m\u001b[0m__traceback__\u001b[0m\u001b[0;34m)\u001b[0m\u001b[0;34m\u001b[0m\u001b[0;34m\u001b[0m\u001b[0m\n",
            "\u001b[0;32m/usr/local/lib/python3.8/dist-packages/keras/engine/training.py\u001b[0m in \u001b[0;36mevaluate\u001b[0;34m(self, x, y, batch_size, verbose, sample_weight, steps, callbacks, max_queue_size, workers, use_multiprocessing, return_dict, **kwargs)\u001b[0m\n\u001b[1;32m   2038\u001b[0m                         ):\n\u001b[1;32m   2039\u001b[0m                             \u001b[0mcallbacks\u001b[0m\u001b[0;34m.\u001b[0m\u001b[0mon_test_batch_begin\u001b[0m\u001b[0;34m(\u001b[0m\u001b[0mstep\u001b[0m\u001b[0;34m)\u001b[0m\u001b[0;34m\u001b[0m\u001b[0;34m\u001b[0m\u001b[0m\n\u001b[0;32m-> 2040\u001b[0;31m                             \u001b[0mtmp_logs\u001b[0m \u001b[0;34m=\u001b[0m \u001b[0mself\u001b[0m\u001b[0;34m.\u001b[0m\u001b[0mtest_function\u001b[0m\u001b[0;34m(\u001b[0m\u001b[0miterator\u001b[0m\u001b[0;34m)\u001b[0m\u001b[0;34m\u001b[0m\u001b[0;34m\u001b[0m\u001b[0m\n\u001b[0m\u001b[1;32m   2041\u001b[0m                             \u001b[0;32mif\u001b[0m \u001b[0mdata_handler\u001b[0m\u001b[0;34m.\u001b[0m\u001b[0mshould_sync\u001b[0m\u001b[0;34m:\u001b[0m\u001b[0;34m\u001b[0m\u001b[0;34m\u001b[0m\u001b[0m\n\u001b[1;32m   2042\u001b[0m                                 \u001b[0mcontext\u001b[0m\u001b[0;34m.\u001b[0m\u001b[0masync_wait\u001b[0m\u001b[0;34m(\u001b[0m\u001b[0;34m)\u001b[0m\u001b[0;34m\u001b[0m\u001b[0;34m\u001b[0m\u001b[0m\n",
            "\u001b[0;32m/usr/local/lib/python3.8/dist-packages/tensorflow/python/util/traceback_utils.py\u001b[0m in \u001b[0;36merror_handler\u001b[0;34m(*args, **kwargs)\u001b[0m\n\u001b[1;32m    148\u001b[0m     \u001b[0mfiltered_tb\u001b[0m \u001b[0;34m=\u001b[0m \u001b[0;32mNone\u001b[0m\u001b[0;34m\u001b[0m\u001b[0;34m\u001b[0m\u001b[0m\n\u001b[1;32m    149\u001b[0m     \u001b[0;32mtry\u001b[0m\u001b[0;34m:\u001b[0m\u001b[0;34m\u001b[0m\u001b[0;34m\u001b[0m\u001b[0m\n\u001b[0;32m--> 150\u001b[0;31m       \u001b[0;32mreturn\u001b[0m \u001b[0mfn\u001b[0m\u001b[0;34m(\u001b[0m\u001b[0;34m*\u001b[0m\u001b[0margs\u001b[0m\u001b[0;34m,\u001b[0m \u001b[0;34m**\u001b[0m\u001b[0mkwargs\u001b[0m\u001b[0;34m)\u001b[0m\u001b[0;34m\u001b[0m\u001b[0;34m\u001b[0m\u001b[0m\n\u001b[0m\u001b[1;32m    151\u001b[0m     \u001b[0;32mexcept\u001b[0m \u001b[0mException\u001b[0m \u001b[0;32mas\u001b[0m \u001b[0me\u001b[0m\u001b[0;34m:\u001b[0m\u001b[0;34m\u001b[0m\u001b[0;34m\u001b[0m\u001b[0m\n\u001b[1;32m    152\u001b[0m       \u001b[0mfiltered_tb\u001b[0m \u001b[0;34m=\u001b[0m \u001b[0m_process_traceback_frames\u001b[0m\u001b[0;34m(\u001b[0m\u001b[0me\u001b[0m\u001b[0;34m.\u001b[0m\u001b[0m__traceback__\u001b[0m\u001b[0;34m)\u001b[0m\u001b[0;34m\u001b[0m\u001b[0;34m\u001b[0m\u001b[0m\n",
            "\u001b[0;32m/usr/local/lib/python3.8/dist-packages/tensorflow/python/eager/polymorphic_function/polymorphic_function.py\u001b[0m in \u001b[0;36m__call__\u001b[0;34m(self, *args, **kwds)\u001b[0m\n\u001b[1;32m    878\u001b[0m \u001b[0;34m\u001b[0m\u001b[0m\n\u001b[1;32m    879\u001b[0m       \u001b[0;32mwith\u001b[0m \u001b[0mOptionalXlaContext\u001b[0m\u001b[0;34m(\u001b[0m\u001b[0mself\u001b[0m\u001b[0;34m.\u001b[0m\u001b[0m_jit_compile\u001b[0m\u001b[0;34m)\u001b[0m\u001b[0;34m:\u001b[0m\u001b[0;34m\u001b[0m\u001b[0;34m\u001b[0m\u001b[0m\n\u001b[0;32m--> 880\u001b[0;31m         \u001b[0mresult\u001b[0m \u001b[0;34m=\u001b[0m \u001b[0mself\u001b[0m\u001b[0;34m.\u001b[0m\u001b[0m_call\u001b[0m\u001b[0;34m(\u001b[0m\u001b[0;34m*\u001b[0m\u001b[0margs\u001b[0m\u001b[0;34m,\u001b[0m \u001b[0;34m**\u001b[0m\u001b[0mkwds\u001b[0m\u001b[0;34m)\u001b[0m\u001b[0;34m\u001b[0m\u001b[0;34m\u001b[0m\u001b[0m\n\u001b[0m\u001b[1;32m    881\u001b[0m \u001b[0;34m\u001b[0m\u001b[0m\n\u001b[1;32m    882\u001b[0m       \u001b[0mnew_tracing_count\u001b[0m \u001b[0;34m=\u001b[0m \u001b[0mself\u001b[0m\u001b[0;34m.\u001b[0m\u001b[0mexperimental_get_tracing_count\u001b[0m\u001b[0;34m(\u001b[0m\u001b[0;34m)\u001b[0m\u001b[0;34m\u001b[0m\u001b[0;34m\u001b[0m\u001b[0m\n",
            "\u001b[0;32m/usr/local/lib/python3.8/dist-packages/tensorflow/python/eager/polymorphic_function/polymorphic_function.py\u001b[0m in \u001b[0;36m_call\u001b[0;34m(self, *args, **kwds)\u001b[0m\n\u001b[1;32m    917\u001b[0m       \u001b[0;31m# In this case we have not created variables on the first call. So we can\u001b[0m\u001b[0;34m\u001b[0m\u001b[0;34m\u001b[0m\u001b[0;34m\u001b[0m\u001b[0m\n\u001b[1;32m    918\u001b[0m       \u001b[0;31m# run the first trace but we should fail if variables are created.\u001b[0m\u001b[0;34m\u001b[0m\u001b[0;34m\u001b[0m\u001b[0;34m\u001b[0m\u001b[0m\n\u001b[0;32m--> 919\u001b[0;31m       \u001b[0mresults\u001b[0m \u001b[0;34m=\u001b[0m \u001b[0mself\u001b[0m\u001b[0;34m.\u001b[0m\u001b[0m_variable_creation_fn\u001b[0m\u001b[0;34m(\u001b[0m\u001b[0;34m*\u001b[0m\u001b[0margs\u001b[0m\u001b[0;34m,\u001b[0m \u001b[0;34m**\u001b[0m\u001b[0mkwds\u001b[0m\u001b[0;34m)\u001b[0m\u001b[0;34m\u001b[0m\u001b[0;34m\u001b[0m\u001b[0m\n\u001b[0m\u001b[1;32m    920\u001b[0m       \u001b[0;32mif\u001b[0m \u001b[0mself\u001b[0m\u001b[0;34m.\u001b[0m\u001b[0m_created_variables\u001b[0m \u001b[0;32mand\u001b[0m \u001b[0;32mnot\u001b[0m \u001b[0mALLOW_DYNAMIC_VARIABLE_CREATION\u001b[0m\u001b[0;34m:\u001b[0m\u001b[0;34m\u001b[0m\u001b[0;34m\u001b[0m\u001b[0m\n\u001b[1;32m    921\u001b[0m         raise ValueError(\"Creating variables on a non-first call to a function\"\n",
            "\u001b[0;32m/usr/local/lib/python3.8/dist-packages/tensorflow/python/eager/polymorphic_function/tracing_compiler.py\u001b[0m in \u001b[0;36m__call__\u001b[0;34m(self, *args, **kwargs)\u001b[0m\n\u001b[1;32m    132\u001b[0m       (concrete_function,\n\u001b[1;32m    133\u001b[0m        filtered_flat_args) = self._maybe_define_function(args, kwargs)\n\u001b[0;32m--> 134\u001b[0;31m     return concrete_function._call_flat(\n\u001b[0m\u001b[1;32m    135\u001b[0m         filtered_flat_args, captured_inputs=concrete_function.captured_inputs)  # pylint: disable=protected-access\n\u001b[1;32m    136\u001b[0m \u001b[0;34m\u001b[0m\u001b[0m\n",
            "\u001b[0;32m/usr/local/lib/python3.8/dist-packages/tensorflow/python/eager/polymorphic_function/monomorphic_function.py\u001b[0m in \u001b[0;36m_call_flat\u001b[0;34m(self, args, captured_inputs, cancellation_manager)\u001b[0m\n\u001b[1;32m   1743\u001b[0m         and executing_eagerly):\n\u001b[1;32m   1744\u001b[0m       \u001b[0;31m# No tape is watching; skip to running the function.\u001b[0m\u001b[0;34m\u001b[0m\u001b[0;34m\u001b[0m\u001b[0;34m\u001b[0m\u001b[0m\n\u001b[0;32m-> 1745\u001b[0;31m       return self._build_call_outputs(self._inference_function.call(\n\u001b[0m\u001b[1;32m   1746\u001b[0m           ctx, args, cancellation_manager=cancellation_manager))\n\u001b[1;32m   1747\u001b[0m     forward_backward = self._select_forward_and_backward_functions(\n",
            "\u001b[0;32m/usr/local/lib/python3.8/dist-packages/tensorflow/python/eager/polymorphic_function/monomorphic_function.py\u001b[0m in \u001b[0;36mcall\u001b[0;34m(self, ctx, args, cancellation_manager)\u001b[0m\n\u001b[1;32m    376\u001b[0m       \u001b[0;32mwith\u001b[0m \u001b[0m_InterpolateFunctionError\u001b[0m\u001b[0;34m(\u001b[0m\u001b[0mself\u001b[0m\u001b[0;34m)\u001b[0m\u001b[0;34m:\u001b[0m\u001b[0;34m\u001b[0m\u001b[0;34m\u001b[0m\u001b[0m\n\u001b[1;32m    377\u001b[0m         \u001b[0;32mif\u001b[0m \u001b[0mcancellation_manager\u001b[0m \u001b[0;32mis\u001b[0m \u001b[0;32mNone\u001b[0m\u001b[0;34m:\u001b[0m\u001b[0;34m\u001b[0m\u001b[0;34m\u001b[0m\u001b[0m\n\u001b[0;32m--> 378\u001b[0;31m           outputs = execute.execute(\n\u001b[0m\u001b[1;32m    379\u001b[0m               \u001b[0mstr\u001b[0m\u001b[0;34m(\u001b[0m\u001b[0mself\u001b[0m\u001b[0;34m.\u001b[0m\u001b[0msignature\u001b[0m\u001b[0;34m.\u001b[0m\u001b[0mname\u001b[0m\u001b[0;34m)\u001b[0m\u001b[0;34m,\u001b[0m\u001b[0;34m\u001b[0m\u001b[0;34m\u001b[0m\u001b[0m\n\u001b[1;32m    380\u001b[0m               \u001b[0mnum_outputs\u001b[0m\u001b[0;34m=\u001b[0m\u001b[0mself\u001b[0m\u001b[0;34m.\u001b[0m\u001b[0m_num_outputs\u001b[0m\u001b[0;34m,\u001b[0m\u001b[0;34m\u001b[0m\u001b[0;34m\u001b[0m\u001b[0m\n",
            "\u001b[0;32m/usr/local/lib/python3.8/dist-packages/tensorflow/python/eager/execute.py\u001b[0m in \u001b[0;36mquick_execute\u001b[0;34m(op_name, num_outputs, inputs, attrs, ctx, name)\u001b[0m\n\u001b[1;32m     50\u001b[0m   \u001b[0;32mtry\u001b[0m\u001b[0;34m:\u001b[0m\u001b[0;34m\u001b[0m\u001b[0;34m\u001b[0m\u001b[0m\n\u001b[1;32m     51\u001b[0m     \u001b[0mctx\u001b[0m\u001b[0;34m.\u001b[0m\u001b[0mensure_initialized\u001b[0m\u001b[0;34m(\u001b[0m\u001b[0;34m)\u001b[0m\u001b[0;34m\u001b[0m\u001b[0;34m\u001b[0m\u001b[0m\n\u001b[0;32m---> 52\u001b[0;31m     tensors = pywrap_tfe.TFE_Py_Execute(ctx._handle, device_name, op_name,\n\u001b[0m\u001b[1;32m     53\u001b[0m                                         inputs, attrs, num_outputs)\n\u001b[1;32m     54\u001b[0m   \u001b[0;32mexcept\u001b[0m \u001b[0mcore\u001b[0m\u001b[0;34m.\u001b[0m\u001b[0m_NotOkStatusException\u001b[0m \u001b[0;32mas\u001b[0m \u001b[0me\u001b[0m\u001b[0;34m:\u001b[0m\u001b[0;34m\u001b[0m\u001b[0;34m\u001b[0m\u001b[0m\n",
            "\u001b[0;31mKeyboardInterrupt\u001b[0m: "
          ]
        }
      ]
    },
    {
      "cell_type": "code",
      "source": [
        "   history_dict=load_history(MODEL)\n",
        "   display_training_curves(history_dict['loss'], history_dict['val_loss'], 'loss', 211)\n",
        "   display_training_curves(history_dict[TRAIN_METRIC], history_dict[f'val_{TRAIN_METRIC}'], 'accuracy', 212)"
      ],
      "metadata": {
        "colab": {
          "base_uri": "https://localhost:8080/",
          "height": 755
        },
        "id": "Gl2gDRY4CkWm",
        "outputId": "c246a62f-d3ca-461c-ee43-4441f078649d"
      },
      "execution_count": null,
      "outputs": [
        {
          "output_type": "display_data",
          "data": {
            "text/plain": [
              "<Figure size 720x720 with 2 Axes>"
            ],
            "image/png": "[encoded data removed]"
          },
          "metadata": {}
        }
      ]
    },
    {
      "cell_type": "code",
      "source": [],
      "metadata": {
        "id": "nE28TLjIo8IV"
      },
      "execution_count": null,
      "outputs": []
    },
    {
      "cell_type": "markdown",
      "source": [
        "## Prediction"
      ],
      "metadata": {
        "id": "6uFYQPC1Xdf2"
      }
    },
    {
      "cell_type": "code",
      "source": [
        "src_dir=get_data_file_path('test_128_128_images')\n",
        "dst_dir=get_data_file_path('test_128_128_images_10')\n",
        "make_dir(dst_dir)\n",
        "\n",
        "files = os.listdir(src_dir)\n",
        "files_10=files[:10]\n",
        "\n",
        "import shutil\n",
        "for filename in files_10:\n",
        "  src_path=os.path.join(src_dir,filename)\n",
        "  dst_path=os.path.join(dst_dir,filename)\n",
        "  shutil.copy(src_path,dst_path)"
      ],
      "metadata": {
        "id": "DOtLAnbuLxc8"
      },
      "execution_count": null,
      "outputs": []
    },
    {
      "cell_type": "code",
      "source": [
        "result, pred=do_predict(MODEL, is_test=False)\n",
        "# result, pred=do_predict(MODEL, is_test=True)"
      ],
      "metadata": {
        "colab": {
          "base_uri": "https://localhost:8080/",
          "height": 183
        },
        "id": "biVv2iP8Katb",
        "outputId": "a9b0f802-a21d-42d9-98ba-69c5b114fee9"
      },
      "execution_count": null,
      "outputs": [
        {
          "output_type": "error",
          "ename": "NameError",
          "evalue": "ignored",
          "traceback": [
            "\u001b[0;31m---------------------------------------------------------------------------\u001b[0m",
            "\u001b[0;31mNameError\u001b[0m                                 Traceback (most recent call last)",
            "\u001b[0;32m<ipython-input-1-0dbf0e9511e2>\u001b[0m in \u001b[0;36m<module>\u001b[0;34m\u001b[0m\n\u001b[0;32m----> 1\u001b[0;31m \u001b[0mresult\u001b[0m\u001b[0;34m,\u001b[0m \u001b[0mpred\u001b[0m\u001b[0;34m=\u001b[0m\u001b[0mdo_predict\u001b[0m\u001b[0;34m(\u001b[0m\u001b[0mMODEL\u001b[0m\u001b[0;34m,\u001b[0m \u001b[0mis_test\u001b[0m\u001b[0;34m=\u001b[0m\u001b[0;32mFalse\u001b[0m\u001b[0;34m)\u001b[0m\u001b[0;34m\u001b[0m\u001b[0;34m\u001b[0m\u001b[0m\n\u001b[0m\u001b[1;32m      2\u001b[0m \u001b[0;31m# result, pred=do_predict(MODEL, is_test=True)\u001b[0m\u001b[0;34m\u001b[0m\u001b[0;34m\u001b[0m\u001b[0;34m\u001b[0m\u001b[0m\n",
            "\u001b[0;31mNameError\u001b[0m: name 'do_predict' is not defined"
          ]
        }
      ]
    },
    {
      "cell_type": "code",
      "source": [
        "result"
      ],
      "metadata": {
        "colab": {
          "base_uri": "https://localhost:8080/",
          "height": 424
        },
        "id": "72fcJgcAPHPN",
        "outputId": "96f0d87a-68bc-41aa-c531-554b82ae3e6d"
      },
      "execution_count": null,
      "outputs": [
        {
          "output_type": "execute_result",
          "data": {
            "text/plain": [
              "                                          Id  Predicted\n",
              "0       bce932f6-2bf6-11e9-bcad-06f10d5896c4          1\n",
              "1       bce932f7-2bf6-11e9-bcad-06f10d5896c4          1\n",
              "2       bce932f8-2bf6-11e9-bcad-06f10d5896c4          1\n",
              "3       bce932f9-2bf6-11e9-bcad-06f10d5896c4          0\n",
              "4       bce932fa-2bf6-11e9-bcad-06f10d5896c4          1\n",
              "...                                      ...        ...\n",
              "153725  88613521-2c22-11e9-bcad-06f10d5896c4          1\n",
              "153726  88613522-2c22-11e9-bcad-06f10d5896c4         16\n",
              "153727  88613523-2c22-11e9-bcad-06f10d5896c4          1\n",
              "153728  88613524-2c22-11e9-bcad-06f10d5896c4          3\n",
              "153729  89994900-2c22-11e9-bcad-06f10d5896c4         10\n",
              "\n",
              "[153730 rows x 2 columns]"
            ],
            "text/html": [
              "\n",
              "  <div id=\"df-7d82707c-edeb-4377-8c6c-dbfed14e73b4\">\n",
              "    <div class=\"colab-df-container\">\n",
              "      <div>\n",
              "<style scoped>\n",
              "    .dataframe tbody tr th:only-of-type {\n",
              "        vertical-align: middle;\n",
              "    }\n",
              "\n",
              "    .dataframe tbody tr th {\n",
              "        vertical-align: top;\n",
              "    }\n",
              "\n",
              "    .dataframe thead th {\n",
              "        text-align: right;\n",
              "    }\n",
              "</style>\n",
              "<table border=\"1\" class=\"dataframe\">\n",
              "  <thead>\n",
              "    <tr style=\"text-align: right;\">\n",
              "      <th></th>\n",
              "      <th>Id</th>\n",
              "      <th>Predicted</th>\n",
              "    </tr>\n",
              "  </thead>\n",
              "  <tbody>\n",
              "    <tr>\n",
              "      <th>0</th>\n",
              "      <td>bce932f6-2bf6-11e9-bcad-06f10d5896c4</td>\n",
              "      <td>1</td>\n",
              "    </tr>\n",
              "    <tr>\n",
              "      <th>1</th>\n",
              "      <td>bce932f7-2bf6-11e9-bcad-06f10d5896c4</td>\n",
              "      <td>1</td>\n",
              "    </tr>\n",
              "    <tr>\n",
              "      <th>2</th>\n",
              "      <td>bce932f8-2bf6-11e9-bcad-06f10d5896c4</td>\n",
              "      <td>1</td>\n",
              "    </tr>\n",
              "    <tr>\n",
              "      <th>3</th>\n",
              "      <td>bce932f9-2bf6-11e9-bcad-06f10d5896c4</td>\n",
              "      <td>0</td>\n",
              "    </tr>\n",
              "    <tr>\n",
              "      <th>4</th>\n",
              "      <td>bce932fa-2bf6-11e9-bcad-06f10d5896c4</td>\n",
              "      <td>1</td>\n",
              "    </tr>\n",
              "    <tr>\n",
              "      <th>...</th>\n",
              "      <td>...</td>\n",
              "      <td>...</td>\n",
              "    </tr>\n",
              "    <tr>\n",
              "      <th>153725</th>\n",
              "      <td>88613521-2c22-11e9-bcad-06f10d5896c4</td>\n",
              "      <td>1</td>\n",
              "    </tr>\n",
              "    <tr>\n",
              "      <th>153726</th>\n",
              "      <td>88613522-2c22-11e9-bcad-06f10d5896c4</td>\n",
              "      <td>16</td>\n",
              "    </tr>\n",
              "    <tr>\n",
              "      <th>153727</th>\n",
              "      <td>88613523-2c22-11e9-bcad-06f10d5896c4</td>\n",
              "      <td>1</td>\n",
              "    </tr>\n",
              "    <tr>\n",
              "      <th>153728</th>\n",
              "      <td>88613524-2c22-11e9-bcad-06f10d5896c4</td>\n",
              "      <td>3</td>\n",
              "    </tr>\n",
              "    <tr>\n",
              "      <th>153729</th>\n",
              "      <td>89994900-2c22-11e9-bcad-06f10d5896c4</td>\n",
              "      <td>10</td>\n",
              "    </tr>\n",
              "  </tbody>\n",
              "</table>\n",
              "<p>153730 rows × 2 columns</p>\n",
              "</div>\n",
              "      <button class=\"colab-df-convert\" onclick=\"convertToInteractive('df-7d82707c-edeb-4377-8c6c-dbfed14e73b4')\"\n",
              "              title=\"Convert this dataframe to an interactive table.\"\n",
              "              style=\"display:none;\">\n",
              "        \n",
              "  <svg xmlns=\"http://www.w3.org/2000/svg\" height=\"24px\"viewBox=\"0 0 24 24\"\n",
              "       width=\"24px\">\n",
              "    <path d=\"M0 0h24v24H0V0z\" fill=\"none\"/>\n",
              "    <path d=\"M18.56 5.44l.94 2.06.94-2.06 2.06-.94-2.06-.94-.94-2.06-.94 2.06-2.06.94zm-11 1L8.5 8.5l.94-2.06 2.06-.94-2.06-.94L8.5 2.5l-.94 2.06-2.06.94zm10 10l.94 2.06.94-2.06 2.06-.94-2.06-.94-.94-2.06-.94 2.06-2.06.94z\"/><path d=\"M17.41 7.96l-1.37-1.37c-.4-.4-.92-.59-1.43-.59-.52 0-1.04.2-1.43.59L10.3 9.45l-7.72 7.72c-.78.78-.78 2.05 0 2.83L4 21.41c.39.39.9.59 1.41.59.51 0 1.02-.2 1.41-.59l7.78-7.78 2.81-2.81c.8-.78.8-2.07 0-2.86zM5.41 20L4 18.59l7.72-7.72 1.47 1.35L5.41 20z\"/>\n",
              "  </svg>\n",
              "      </button>\n",
              "      \n",
              "  <style>\n",
              "    .colab-df-container {\n",
              "      display:flex;\n",
              "      flex-wrap:wrap;\n",
              "      gap: 12px;\n",
              "    }\n",
              "\n",
              "    .colab-df-convert {\n",
              "      background-color: #E8F0FE;\n",
              "      border: none;\n",
              "      border-radius: 50%;\n",
              "      cursor: pointer;\n",
              "      display: none;\n",
              "      fill: #1967D2;\n",
              "      height: 32px;\n",
              "      padding: 0 0 0 0;\n",
              "      width: 32px;\n",
              "    }\n",
              "\n",
              "    .colab-df-convert:hover {\n",
              "      background-color: #E2EBFA;\n",
              "      box-shadow: 0px 1px 2px rgba(60, 64, 67, 0.3), 0px 1px 3px 1px rgba(60, 64, 67, 0.15);\n",
              "      fill: #174EA6;\n",
              "    }\n",
              "\n",
              "    [theme=dark] .colab-df-convert {\n",
              "      background-color: #3B4455;\n",
              "      fill: #D2E3FC;\n",
              "    }\n",
              "\n",
              "    [theme=dark] .colab-df-convert:hover {\n",
              "      background-color: #434B5C;\n",
              "      box-shadow: 0px 1px 3px 1px rgba(0, 0, 0, 0.15);\n",
              "      filter: drop-shadow(0px 1px 2px rgba(0, 0, 0, 0.3));\n",
              "      fill: #FFFFFF;\n",
              "    }\n",
              "  </style>\n",
              "\n",
              "      <script>\n",
              "        const buttonEl =\n",
              "          document.querySelector('#df-7d82707c-edeb-4377-8c6c-dbfed14e73b4 button.colab-df-convert');\n",
              "        buttonEl.style.display =\n",
              "          google.colab.kernel.accessAllowed ? 'block' : 'none';\n",
              "\n",
              "        async function convertToInteractive(key) {\n",
              "          const element = document.querySelector('#df-7d82707c-edeb-4377-8c6c-dbfed14e73b4');\n",
              "          const dataTable =\n",
              "            await google.colab.kernel.invokeFunction('convertToInteractive',\n",
              "                                                     [key], {});\n",
              "          if (!dataTable) return;\n",
              "\n",
              "          const docLinkHtml = 'Like what you see? Visit the ' +\n",
              "            '<a target=\"_blank\" href=https://colab.research.google.com/notebooks/data_table.ipynb>data table notebook</a>'\n",
              "            + ' to learn more about interactive tables.';\n",
              "          element.innerHTML = '';\n",
              "          dataTable['output_type'] = 'display_data';\n",
              "          await google.colab.output.renderOutput(dataTable, element);\n",
              "          const docLink = document.createElement('div');\n",
              "          docLink.innerHTML = docLinkHtml;\n",
              "          element.appendChild(docLink);\n",
              "        }\n",
              "      </script>\n",
              "    </div>\n",
              "  </div>\n",
              "  "
            ]
          },
          "metadata": {},
          "execution_count": 65
        }
      ]
    },
    {
      "cell_type": "markdown",
      "source": [
        "## Submit"
      ],
      "metadata": {
        "id": "jx6n4g6L7bRU"
      }
    },
    {
      "cell_type": "code",
      "source": [
        "make_dir('/root/.kaggle')\n",
        "with open('/root/.kaggle/kaggle.json', 'wt') as f:\n",
        "  f.write('{\"username\":\"hadassela\",\"key\":\"f0c0248c6b215797bf4fb4ad7f4a9490\"}')\n",
        "! chmod 600 /root/.kaggle/kaggle.json"
      ],
      "metadata": {
        "id": "4wjBnyGO5cQz"
      },
      "execution_count": null,
      "outputs": []
    },
    {
      "cell_type": "code",
      "source": [
        "result_path=get_drive_file_path(f'result-{MODEL}.csv')\n",
        "result_path"
      ],
      "metadata": {
        "colab": {
          "base_uri": "https://localhost:8080/",
          "height": 35
        },
        "id": "JknZPz867j2g",
        "outputId": "e6477fe6-d3b8-438c-ce3d-84aeb22f45b0"
      },
      "execution_count": null,
      "outputs": [
        {
          "output_type": "execute_result",
          "data": {
            "text/plain": [
              "'/content/drive/MyDrive/statistical_inference/iWildCam_2019/result-EfficientNetV2B0.csv'"
            ],
            "application/vnd.google.colaboratory.intrinsic+json": {
              "type": "string"
            }
          },
          "metadata": {},
          "execution_count": 67
        }
      ]
    },
    {
      "cell_type": "code",
      "source": [
        "!kaggle competitions submit -c iwildcam-2019-fgvc6 -f {result_path} -m \"Keras implementation of EfficientNetV2B0\""
      ],
      "metadata": {
        "colab": {
          "base_uri": "https://localhost:8080/"
        },
        "id": "tEkZRmPc83rU",
        "outputId": "1a15e2af-65a3-43dd-ae5d-132a99b93332"
      },
      "execution_count": null,
      "outputs": [
        {
          "output_type": "stream",
          "name": "stdout",
          "text": [
            "100% 5.76M/5.76M [00:00<00:00, 16.8MB/s]\n",
            "Successfully submitted to iWildCam 2019 - FGVC6"
          ]
        }
      ]
    }
  ]
}